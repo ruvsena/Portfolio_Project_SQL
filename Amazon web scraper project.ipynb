{
 "cells": [
  {
   "cell_type": "code",
   "execution_count": 2,
   "id": "56448f7c",
   "metadata": {},
   "outputs": [],
   "source": [
    "# import libraries \n",
    "\n",
    "from bs4 import BeautifulSoup\n",
    "import requests\n",
    "import time\n",
    "import datetime\n",
    "\n",
    "import smtplib"
   ]
  },
  {
   "cell_type": "code",
   "execution_count": 65,
   "id": "62619c17",
   "metadata": {},
   "outputs": [
    {
     "name": "stdout",
     "output_type": "stream",
     "text": [
      "\n",
      "                   Funny Got Data MIS Data Systems Business Analyst T-Shirt\n",
      "                  \n",
      "\n",
      "                    15 ratings\n",
      "                   \n"
     ]
    }
   ],
   "source": [
    "# Connect to Website and pull in data\n",
    "\n",
    "URL = 'https://www.amazon.com/Funny-Data-Systems-Business-Analyst/dp/B07FNW9FGJ/ref=sr_1_3?dchild=1&keywords=data%2Banalyst%2Btshirt&qid=1626655184&sr=8-3&customId=B0752XJYNL&th=1'\n",
    "\n",
    "headers = {\"User-Agent\": \"Mozilla/5.0 (Windows NT 10.0; Win64; x64) AppleWebKit/537.36 (KHTML, like Gecko) Chrome/78.0.3904.108 Safari/537.36\", \"Accept-Encoding\":\"gzip, deflate\", \"Accept\":\"text/html,application/xhtml+xml,application/xml;q=0.9,*/*;q=0.8\", \"DNT\":\"1\",\"Connection\":\"close\", \"Upgrade-Insecure-Requests\":\"1\"}\n",
    "\n",
    "page = requests.get(URL, headers=headers)\n",
    "\n",
    "soup1 = BeautifulSoup(page.content, \"html.parser\")\n",
    "\n",
    "soup2 = BeautifulSoup(soup1.prettify(), \"html.parser\")\n",
    "\n",
    "title = soup2.find(id='productTitle').get_text()\n",
    "\n",
    "vote  = soup2.find(id='acrCustomerReviewText').get_text()\n",
    "\n",
    "print(title)  \n",
    "\n",
    "print(vote)"
   ]
  },
  {
   "cell_type": "code",
   "execution_count": 85,
   "id": "ddbe3e59",
   "metadata": {},
   "outputs": [
    {
     "name": "stdout",
     "output_type": "stream",
     "text": [
      "Funny Got Data MIS Data Systems Business Analyst T-Shirt\n",
      "15\n",
      "2022-08-19\n"
     ]
    }
   ],
   "source": [
    "import datetime\n",
    "vote  = vote.strip()[:2] \n",
    "title = title.strip()\n",
    "today = datetime.date.today()\n",
    "\n",
    "print(title)  \n",
    "print(vote)\n",
    "print(today)"
   ]
  },
  {
   "cell_type": "code",
   "execution_count": 86,
   "id": "9feb0427",
   "metadata": {},
   "outputs": [],
   "source": [
    "# Create CSV and write headers and data into the file\n",
    "\n",
    "import csv \n",
    "\n",
    "header = ['Title', 'Vote', 'Date']\n",
    "data = [title, vote, today]\n",
    "\n",
    "\n",
    "with open('AmazonWebScraperDataset.csv', 'w', newline='', encoding='UTF8') as f:\n",
    "    writer = csv.writer(f)\n",
    "    writer.writerow(header)\n",
    "    writer.writerow(data)"
   ]
  },
  {
   "cell_type": "code",
   "execution_count": 93,
   "id": "4e6828c1",
   "metadata": {
    "scrolled": true
   },
   "outputs": [
    {
     "name": "stdout",
     "output_type": "stream",
     "text": [
      "                                               Title  Vote        Date\n",
      "0  Funny Got Data MIS Data Systems Business Analy...    15  2022-08-19\n",
      "1  Funny Got Data MIS Data Systems Business Analy...    15  2022-08-19\n",
      "2  Funny Got Data MIS Data Systems Business Analy...    15  2022-08-19\n",
      "3  Funny Got Data MIS Data Systems Business Analy...    15  2022-08-19\n",
      "4  Funny Got Data MIS Data Systems Business Analy...    15  2022-08-19\n",
      "5  Funny Got Data MIS Data Systems Business Analy...    15  2022-08-19\n"
     ]
    }
   ],
   "source": [
    "import pandas as pd\n",
    "\n",
    "df =pd.read_csv(r'C:\\Users\\pc\\AmazonWebScraperDataset.csv')\n",
    "\n",
    "print(df)"
   ]
  },
  {
   "cell_type": "code",
   "execution_count": 92,
   "id": "ee943c14",
   "metadata": {},
   "outputs": [],
   "source": [
    "#appending data to the csv\n",
    "\n",
    "with open('AmazonWebScraperDataset.csv', 'a+', newline='', encoding='UTF8') as f:\n",
    "    writer = csv.writer(f)\n",
    "    writer.writerow(data)"
   ]
  },
  {
   "cell_type": "code",
   "execution_count": 123,
   "id": "6598d168",
   "metadata": {},
   "outputs": [],
   "source": [
    "def check_price():\n",
    "    \n",
    "    URL = 'https://www.amazon.com/Funny-Data-Systems-Business-Analyst/dp/B07FNW9FGJ/ref=sr_1_3?dchild=1&keywords=data%2Banalyst%2Btshirt&qid=1626655184&sr=8-3&customId=B0752XJYNL&th=1'\n",
    "\n",
    "    headers = {\"User-Agent\": \"Mozilla/5.0 (Windows NT 10.0; Win64; x64) AppleWebKit/537.36 (KHTML, like Gecko) Chrome/78.0.3904.108 Safari/537.36\", \"Accept-Encoding\":\"gzip, deflate\", \"Accept\":\"text/html,application/xhtml+xml,application/xml;q=0.9,*/*;q=0.8\", \"DNT\":\"1\",\"Connection\":\"close\", \"Upgrade-Insecure-Requests\":\"1\"}\n",
    "\n",
    "    page = requests.get(URL, headers=headers)\n",
    "\n",
    "    soup1 = BeautifulSoup(page.content, \"html.parser\")\n",
    "\n",
    "    soup2 = BeautifulSoup(soup1.prettify(), \"html.parser\")\n",
    "\n",
    "    title = soup2.find(id='productTitle').get_text()\n",
    "\n",
    "    vote  = soup2.find(id='acrCustomerReviewText').get_text()\n",
    "    \n",
    "    vote  = vote.strip()[:2] \n",
    "    title = title.strip()\n",
    "    import datetime\n",
    "    today = datetime.date.today()\n",
    "\n",
    "    import csv \n",
    "    header = ['Title', 'Vote', 'Date']\n",
    "    data = [title, vote, today]\n",
    "    \n",
    "    with open('AmazonWebScraperDataset.csv', 'a+', newline='', encoding='UTF8') as f:\n",
    "        writer = csv.writer(f)\n",
    "        writer.writerow(data)\n",
    "        \n",
    "    if(vote<14):\n",
    "        send_mail()\n",
    "     "
   ]
  },
  {
   "cell_type": "code",
   "execution_count": 122,
   "id": "8575371c",
   "metadata": {},
   "outputs": [],
   "source": [
    "def send_mail():\n",
    "    server = smtplib.SMTP_SSL('smtp.gmail.com',465)\n",
    "    server.ehlo()\n",
    "    #server.starttls()\n",
    "    server.ehlo()\n",
    "    server.login('lunathequen@gmail.com','ns72415')\n",
    "    \n",
    "    subject = \"The Shirt you want is below $15! Now is your chance to buy!\"\n",
    "    body = \"Alex, This is the moment we have been waiting for. Now is your chance to pick up the shirt of your dreams. Don't mess it up! Link here: https://www.amazon.com/Funny-Data-Systems-Business-Analyst/dp/B07FNW9FGJ/ref=sr_1_3?dchild=1&keywords=data+analyst+tshirt&qid=1626655184&sr=8-3\"\n",
    "   \n",
    "    msg = f\"Subject: {subject}\\n\\n{body}\"\n",
    "    \n",
    "    server.sendmail(\n",
    "        'lunathequen@gmail.com',\n",
    "        msg\n",
    "     \n",
    "    )"
   ]
  },
  {
   "cell_type": "code",
   "execution_count": null,
   "id": "93e5c241",
   "metadata": {},
   "outputs": [],
   "source": [
    "while(True):\n",
    "    check_price()\n",
    "    time.sleep(10)"
   ]
  },
  {
   "cell_type": "code",
   "execution_count": 125,
   "id": "497d7e29",
   "metadata": {},
   "outputs": [
    {
     "name": "stdout",
     "output_type": "stream",
     "text": [
      "                                                Title  Vote        Date\n",
      "0   Funny Got Data MIS Data Systems Business Analy...    15  2022-08-19\n",
      "1   Funny Got Data MIS Data Systems Business Analy...    15  2022-08-19\n",
      "2   Funny Got Data MIS Data Systems Business Analy...    15  2022-08-19\n",
      "3   Funny Got Data MIS Data Systems Business Analy...    15  2022-08-19\n",
      "4   Funny Got Data MIS Data Systems Business Analy...    15  2022-08-19\n",
      "5   Funny Got Data MIS Data Systems Business Analy...    15  2022-08-19\n",
      "6   Funny Got Data MIS Data Systems Business Analy...    15  2022-08-19\n",
      "7   Funny Got Data MIS Data Systems Business Analy...    15  2022-08-19\n",
      "8   Funny Got Data MIS Data Systems Business Analy...    15  2022-08-19\n",
      "9   Funny Got Data MIS Data Systems Business Analy...    15  2022-08-19\n",
      "10  Funny Got Data MIS Data Systems Business Analy...    15  2022-08-19\n",
      "11  Funny Got Data MIS Data Systems Business Analy...    15  2022-08-19\n",
      "12  Funny Got Data MIS Data Systems Business Analy...    15  2022-08-19\n",
      "13  Funny Got Data MIS Data Systems Business Analy...    15  2022-08-19\n",
      "14  Funny Got Data MIS Data Systems Business Analy...    15  2022-08-19\n",
      "15  Funny Got Data MIS Data Systems Business Analy...    15  2022-08-19\n",
      "16  Funny Got Data MIS Data Systems Business Analy...    15  2022-08-19\n",
      "17  Funny Got Data MIS Data Systems Business Analy...    15  2022-08-19\n",
      "18  Funny Got Data MIS Data Systems Business Analy...    15  2022-08-19\n",
      "19  Funny Got Data MIS Data Systems Business Analy...    15  2022-08-19\n",
      "20  Funny Got Data MIS Data Systems Business Analy...    15  2022-08-19\n",
      "21  Funny Got Data MIS Data Systems Business Analy...    15  2022-08-19\n"
     ]
    }
   ],
   "source": [
    "import pandas as pd\n",
    "\n",
    "df =pd.read_csv(r'C:\\Users\\pc\\AmazonWebScraperDataset.csv')\n",
    "\n",
    "print(df)"
   ]
  }
 ],
 "metadata": {
  "kernelspec": {
   "display_name": "Python 3 (ipykernel)",
   "language": "python",
   "name": "python3"
  },
  "language_info": {
   "codemirror_mode": {
    "name": "ipython",
    "version": 3
   },
   "file_extension": ".py",
   "mimetype": "text/x-python",
   "name": "python",
   "nbconvert_exporter": "python",
   "pygments_lexer": "ipython3",
   "version": "3.9.12"
  }
 },
 "nbformat": 4,
 "nbformat_minor": 5
}
